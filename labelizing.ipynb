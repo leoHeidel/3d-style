{
 "cells": [
  {
   "cell_type": "code",
   "execution_count": 1,
   "metadata": {},
   "outputs": [],
   "source": [
    "from datetime import datetime\n",
    "import io\n",
    "\n",
    "from PIL import Image\n",
    "import matplotlib.pyplot as plt\n",
    "import numpy as np\n",
    "import pickle\n",
    "import ipywidgets as widgets\n",
    "import tensorflow as tf\n",
    "import tqdm.notebook as tqdm"
   ]
  },
  {
   "cell_type": "code",
   "execution_count": 2,
   "metadata": {},
   "outputs": [
    {
     "data": {
      "text/plain": [
       "<tensorflow.python.training.tracking.util.CheckpointLoadStatus at 0x7f8c73d1d160>"
      ]
     },
     "execution_count": 2,
     "metadata": {},
     "output_type": "execute_result"
    }
   ],
   "source": [
    "import lib_stylegan\n",
    "\n",
    "im_size = 256\n",
    "batch_size = 8 \n",
    "latent_size = 512 \n",
    "channels = 32 # Should be at least 32 for good results\n",
    "\n",
    "model = lib_stylegan.style_gan.StyleGan(im_size=im_size, \n",
    "                                        latent_size=latent_size,\n",
    "                                        nb_style_mapper_layer=6,\n",
    "                                        channels=channels)\n",
    "\n",
    "model.load_weights(\"samples/model_small_lr_009\")"
   ]
  },
  {
   "cell_type": "code",
   "execution_count": 3,
   "metadata": {},
   "outputs": [],
   "source": [
    "def get_images(M,S,G,nb=16):\n",
    "    l_z, _, _, noise = model.get_noise(tf.ones((nb,)))\n",
    "    l_w = M(l_z)\n",
    "    style = tf.stack([l_w for i in range(model.n_layers)],axis=1)\n",
    "    seed = S(style)\n",
    "    generated = G([seed, style, noise])\n",
    "    images = [im for im in generated.numpy()]\n",
    "    images = [Image.fromarray(np.uint8(np.clip(im, 0, 1)*255)) for im in images]\n",
    "    images = [im.resize((128,128)) for im in images]\n",
    "    images_bytes = []\n",
    "    for im in images:\n",
    "        img_byte_arr = io.BytesIO()\n",
    "        im.save(img_byte_arr, format='PNG')\n",
    "        img_byte_arr = img_byte_arr.getvalue()\n",
    "        images_bytes.append(img_byte_arr)\n",
    "    return [z for z in l_z.numpy()], [w for w in l_w.numpy()], images_bytes\n"
   ]
  },
  {
   "cell_type": "markdown",
   "metadata": {},
   "source": [
    "## Click for 1"
   ]
  },
  {
   "cell_type": "code",
   "execution_count": 4,
   "metadata": {},
   "outputs": [],
   "source": [
    "result = []"
   ]
  },
  {
   "cell_type": "code",
   "execution_count": 5,
   "metadata": {
    "scrolled": false
   },
   "outputs": [
    {
     "data": {
      "application/vnd.jupyter.widget-view+json": {
       "model_id": "dd6dab4edb044a438ad691dbff35d33f",
       "version_major": 2,
       "version_minor": 0
      },
      "text/plain": [
       "  0%|          | 0/100 [00:00<?, ?it/s]"
      ]
     },
     "metadata": {},
     "output_type": "display_data"
    },
    {
     "data": {
      "application/vnd.jupyter.widget-view+json": {
       "model_id": "c28baf5bdc964d38b498f7986240d769",
       "version_major": 2,
       "version_minor": 0
      },
      "text/plain": [
       "VBox(children=(HBox(children=(VBox(children=(Image(value=b'\\x89PNG\\r\\n\\x1a\\n\\x00\\x00\\x00\\rIHDR\\x00\\x00\\x00\\x80…"
      ]
     },
     "metadata": {},
     "output_type": "display_data"
    }
   ],
   "source": [
    "COLS = 4\n",
    "ROWS = 4\n",
    "IMG_WIDTH = 150\n",
    "IMG_HEIGHT = 150\n",
    "TOTAL_BATCH = 100\n",
    "progress = tqdm.tqdm(total=100)\n",
    "\n",
    "import ipywidgets as widgets\n",
    "import functools\n",
    "\n",
    "z,w,im = get_images(model.M,model.S,model.G)\n",
    "def next_images(*args):\n",
    "    global z\n",
    "    global w\n",
    "    global im\n",
    "    values = [bw.value for bw in button_widgets]\n",
    "    result.extend(zip(z,w,values))\n",
    "    z,w,im = get_images(model.M,model.S,model.G)\n",
    "    for bw in button_widgets:\n",
    "        bw.value = False\n",
    "    for i,iw in enumerate(images_widgets):\n",
    "        iw.value = im[i]\n",
    "    progress.update(1)\n",
    "    \n",
    "images_widgets = []    \n",
    "button_widgets = []    \n",
    "rows = []    \n",
    "for row in range(ROWS):\n",
    "    cols = []\n",
    "    for col in range(COLS):\n",
    "        index = row * COLS + col\n",
    "        image = widgets.Image(\n",
    "            value=im[index], width=IMG_WIDTH, height=IMG_HEIGHT\n",
    "        )\n",
    "        images_widgets.append(image)\n",
    "        button = widgets.ToggleButton(description=f'Click to select')\n",
    "        # Bind the click event to the on_click function, with our index as argument\n",
    "        button_widgets.append(button)\n",
    "        # Create a vertical layout box, image above the button\n",
    "        box = widgets.VBox([image, button])\n",
    "        cols.append(box)\n",
    "\n",
    "    # Create a horizontal layout box, grouping all the columns together\n",
    "    rows.append(widgets.HBox(cols))\n",
    "\n",
    "next_button = widgets.Button(description='Next')\n",
    "next_button.on_click(next_images)\n",
    "rows.append(next_button)\n",
    "\n",
    "# Create a vertical layout box, grouping all the rows together\n",
    "widgets.VBox(rows)"
   ]
  },
  {
   "cell_type": "code",
   "execution_count": 6,
   "metadata": {},
   "outputs": [
    {
     "name": "stdout",
     "output_type": "stream",
     "text": [
      "[]\n"
     ]
    }
   ],
   "source": [
    "print([r[2] for r in result])"
   ]
  },
  {
   "cell_type": "markdown",
   "metadata": {},
   "source": [
    "## Saving"
   ]
  },
  {
   "cell_type": "code",
   "execution_count": 12,
   "metadata": {},
   "outputs": [],
   "source": [
    "with open(f'data/lattent_{datetime.now().strftime(\"%Y%m%d-%H%M%S\")}_nb_{len(result)}.pkl', 'wb') as f:\n",
    "    pickle.dump(result, f)"
   ]
  },
  {
   "cell_type": "code",
   "execution_count": null,
   "metadata": {},
   "outputs": [],
   "source": []
  },
  {
   "cell_type": "code",
   "execution_count": null,
   "metadata": {},
   "outputs": [],
   "source": []
  },
  {
   "cell_type": "code",
   "execution_count": null,
   "metadata": {},
   "outputs": [],
   "source": []
  },
  {
   "cell_type": "code",
   "execution_count": null,
   "metadata": {},
   "outputs": [],
   "source": []
  },
  {
   "cell_type": "code",
   "execution_count": null,
   "metadata": {},
   "outputs": [],
   "source": []
  },
  {
   "cell_type": "code",
   "execution_count": null,
   "metadata": {},
   "outputs": [],
   "source": []
  },
  {
   "cell_type": "code",
   "execution_count": null,
   "metadata": {},
   "outputs": [],
   "source": []
  },
  {
   "cell_type": "code",
   "execution_count": null,
   "metadata": {},
   "outputs": [],
   "source": []
  },
  {
   "cell_type": "code",
   "execution_count": null,
   "metadata": {},
   "outputs": [],
   "source": []
  }
 ],
 "metadata": {
  "kernelspec": {
   "display_name": "Python 3",
   "language": "python",
   "name": "python3"
  },
  "language_info": {
   "codemirror_mode": {
    "name": "ipython",
    "version": 3
   },
   "file_extension": ".py",
   "mimetype": "text/x-python",
   "name": "python",
   "nbconvert_exporter": "python",
   "pygments_lexer": "ipython3",
   "version": "3.6.12"
  }
 },
 "nbformat": 4,
 "nbformat_minor": 4
}
