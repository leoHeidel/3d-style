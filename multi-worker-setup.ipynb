{
 "cells": [
  {
   "cell_type": "code",
   "execution_count": 53,
   "metadata": {},
   "outputs": [],
   "source": [
    "import subprocess"
   ]
  },
  {
   "cell_type": "code",
   "execution_count": 57,
   "metadata": {},
   "outputs": [],
   "source": [
    "with open(\"private/flowers.txt\") as f:\n",
    "    machine_names = f.readlines()\n",
    "    machine_names = [n.strip() for n in machine_names][:4]"
   ]
  },
  {
   "cell_type": "code",
   "execution_count": 67,
   "metadata": {},
   "outputs": [],
   "source": [
    "def has_conda(machine_name):\n",
    "    process = subprocess.Popen(['ssh', machine_name, 'conda'],\n",
    "                     stdout=subprocess.PIPE, \n",
    "                     stderr=subprocess.PIPE)\n",
    "    stdout, stderr = process.communicate()\n",
    "    return stderr == b\"\"\n",
    "\n",
    "conda_installation = \"/usr/bin/rm -fr /Data/leo &&\\\n",
    "cd /Data &&\\\n",
    "mkdir leo &&\\\n",
    "chmod 700 leo/ &&\\\n",
    "cd leo &&\\\n",
    "wget https://repo.anaconda.com/miniconda/Miniconda3-latest-Linux-x86_64.sh &&\\\n",
    "chmod +x Miniconda3-latest-Linux-x86_64.sh &&\\\n",
    "./Miniconda3-latest-Linux-x86_64.sh -b -p /Data/leo/miniconda3 &&\\\n",
    "source ~/.bashrc &&\\\n",
    "conda create --name tf2 -y matplotlib pillow tqdm scikit-learn pandas jupyter tensorflow-gpu &&\\\n",
    "conda activate tf2 &&\\\n",
    "pip install tensorflow-gpu==2.3\"\n",
    "\n",
    "\n",
    "def install_conda(machine_name):\n",
    "    print(f\"installing conda on {machine_name}\")\n",
    "    process = subprocess.Popen(['ssh', machine_name, conda_installation],\n",
    "                     stdout=subprocess.PIPE, \n",
    "                     stderr=subprocess.PIPE)\n",
    "    stdout, stderr = process.communicate()\n",
    "    #print(stdout)\n",
    "    assert has_conda(machine_name)"
   ]
  },
  {
   "cell_type": "code",
   "execution_count": 89,
   "metadata": {},
   "outputs": [],
   "source": [
    "def has_data(machine_name):\n",
    "    process = subprocess.Popen(['ssh', machine_name, \"ls /Data/leo\"],\n",
    "                     stdout=subprocess.PIPE, \n",
    "                     stderr=subprocess.PIPE)\n",
    "    stdout, stderr = process.communicate()\n",
    "    return b\"dogs-face-2015\" in stdout\n",
    "\n",
    "def copy_data(machine_name):\n",
    "    print(f\"Copying data to {machine_name}\")\n",
    "    process = subprocess.Popen(['scp', \"/Data/dataset/dogs-face-2015.zip\", f\"{machine_name}:/Data/leo\"],\n",
    "                     stdout=subprocess.PIPE, \n",
    "                     stderr=subprocess.PIPE)\n",
    "    stdout, stderr = process.communicate()\n",
    "    assert not len(stderr), stderr\n",
    "    process = subprocess.Popen(['ssh', machine_name, \"cd /Data/leo && unzip -q dogs-face-2015.zip\"],\n",
    "                     stdout=subprocess.PIPE, \n",
    "                     stderr=subprocess.PIPE)\n",
    "    stdout, stderr = process.communicate()\n",
    "    assert not len(stderr), stderr\n",
    "    assert has_data(machine_name)"
   ]
  },
  {
   "cell_type": "code",
   "execution_count": 68,
   "metadata": {},
   "outputs": [
    {
     "name": "stdout",
     "output_type": "stream",
     "text": [
      "installing conda on barlia\n",
      "installing conda on calanthe\n"
     ]
    }
   ],
   "source": [
    "for machine_name in machine_names:\n",
    "    if not has_conda(machine_name):\n",
    "        install_conda(machine_name)\n",
    "        "
   ]
  },
  {
   "cell_type": "code",
   "execution_count": 90,
   "metadata": {},
   "outputs": [
    {
     "name": "stdout",
     "output_type": "stream",
     "text": [
      "b'Miniconda3-latest-Linux-x86_64.sh\\ndogs-face-2015.zip\\nminiconda3\\n'\n",
      "b'Miniconda3-latest-Linux-x86_64.sh\\nminiconda3\\n'\n",
      "Copying data to barlia\n",
      "b'Miniconda3-latest-Linux-x86_64.sh\\ndogs-face-2015\\ndogs-face-2015.zip\\nminiconda3\\n'\n",
      "b'Miniconda3-latest-Linux-x86_64.sh\\nminiconda3\\n'\n",
      "Copying data to calanthe\n",
      "b'Miniconda3-latest-Linux-x86_64.sh\\ndogs-face-2015\\ndogs-face-2015.zip\\nminiconda3\\n'\n",
      "b'Miniconda3-latest-Linux-x86_64.sh\\ndogs-face-2015\\ndogs-face-2015.zip\\nminiconda3\\n'\n"
     ]
    }
   ],
   "source": [
    "for machine_name in machine_names:\n",
    "    if not has_data(machine_name):\n",
    "        copy_data(machine_name)"
   ]
  },
  {
   "cell_type": "code",
   "execution_count": null,
   "metadata": {},
   "outputs": [],
   "source": []
  },
  {
   "cell_type": "code",
   "execution_count": 31,
   "metadata": {},
   "outputs": [
    {
     "data": {
      "text/plain": [
       "(b'lada.polytechnique.fr\\nlada.polytechnique.fr\\n', b'')"
      ]
     },
     "execution_count": 31,
     "metadata": {},
     "output_type": "execute_result"
    }
   ],
   "source": [
    "import subprocess\n",
    "process = subprocess.Popen(['ssh', \"lada\", 'hostname && hostname'],\n",
    "             stdout=subprocess.PIPE, \n",
    "             stderr=subprocess.PIPE)\n",
    "stdout, stderr = process.communicate()\n",
    "stdout,stderr"
   ]
  },
  {
   "cell_type": "code",
   "execution_count": null,
   "metadata": {},
   "outputs": [],
   "source": []
  },
  {
   "cell_type": "code",
   "execution_count": null,
   "metadata": {},
   "outputs": [],
   "source": []
  },
  {
   "cell_type": "code",
   "execution_count": null,
   "metadata": {},
   "outputs": [],
   "source": []
  }
 ],
 "metadata": {
  "kernelspec": {
   "display_name": "Python 3",
   "language": "python",
   "name": "python3"
  },
  "language_info": {
   "codemirror_mode": {
    "name": "ipython",
    "version": 3
   },
   "file_extension": ".py",
   "mimetype": "text/x-python",
   "name": "python",
   "nbconvert_exporter": "python",
   "pygments_lexer": "ipython3",
   "version": "3.8.5"
  }
 },
 "nbformat": 4,
 "nbformat_minor": 4
}
