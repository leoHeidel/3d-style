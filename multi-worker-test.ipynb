{
 "cells": [
  {
   "cell_type": "code",
   "execution_count": 1,
   "metadata": {},
   "outputs": [],
   "source": [
    "import json\n",
    "import os\n",
    "\n",
    "port_start = 60066\n",
    "tf_config = {\n",
    "    'cluster': {\n",
    "        'worker': [f'ferrari:{port_start}', f'volvo:{port_start+1}']\n",
    "    },\n",
    "    #'task': {'type': 'worker', 'index': 1} #For volvo\n",
    "    'task': {'type': 'worker', 'index': 0}\n",
    "}\n",
    "\n",
    "json.dumps(tf_config)\n",
    "os.environ['TF_CONFIG'] = json.dumps(tf_config)"
   ]
  },
  {
   "cell_type": "code",
   "execution_count": 2,
   "metadata": {},
   "outputs": [
    {
     "name": "stdout",
     "output_type": "stream",
     "text": [
      "INFO:tensorflow:Enabled multi-worker collective ops with available devices: ['/job:worker/replica:0/task:0/device:CPU:0', '/job:worker/replica:0/task:0/device:XLA_CPU:0', '/job:worker/replica:0/task:0/device:XLA_GPU:0', '/job:worker/replica:0/task:0/device:GPU:0']\n",
      "INFO:tensorflow:Using MirroredStrategy with devices ('/job:worker/task:0/device:GPU:0',)\n",
      "INFO:tensorflow:MultiWorkerMirroredStrategy with cluster_spec = {'worker': ['ferrari:60066', 'volvo:60067']}, task_type = 'worker', task_id = 0, num_workers = 2, local_devices = ('/job:worker/task:0/device:GPU:0',), communication = CollectiveCommunication.AUTO\n"
     ]
    },
    {
     "name": "stderr",
     "output_type": "stream",
     "text": [
      "\r",
      "  0%|          | 0/100 [00:00<?, ?it/s]"
     ]
    },
    {
     "name": "stdout",
     "output_type": "stream",
     "text": [
      "Number of train images found: 52597\n",
      "Here\n",
      "INFO:tensorflow:Collective batch_all_reduce: 2 all-reduces, num_devices = 1, group_size = 2, communication_hint = AUTO, num_packs = 1\n",
      "INFO:tensorflow:Collective batch_all_reduce: 12 all-reduces, num_devices = 1, group_size = 2, communication_hint = AUTO, num_packs = 1\n",
      "INFO:tensorflow:Collective batch_all_reduce: 78 all-reduces, num_devices = 1, group_size = 2, communication_hint = AUTO, num_packs = 1\n",
      "INFO:tensorflow:Collective batch_all_reduce: 38 all-reduces, num_devices = 1, group_size = 2, communication_hint = AUTO, num_packs = 1\n",
      "INFO:tensorflow:Collective batch_all_reduce: 2 all-reduces, num_devices = 1, group_size = 2, communication_hint = AUTO, num_packs = 1\n",
      "INFO:tensorflow:Collective batch_all_reduce: 12 all-reduces, num_devices = 1, group_size = 2, communication_hint = AUTO, num_packs = 1\n",
      "INFO:tensorflow:Collective batch_all_reduce: 78 all-reduces, num_devices = 1, group_size = 2, communication_hint = AUTO, num_packs = 1\n",
      "INFO:tensorflow:Collective batch_all_reduce: 38 all-reduces, num_devices = 1, group_size = 2, communication_hint = AUTO, num_packs = 1\n"
     ]
    },
    {
     "name": "stderr",
     "output_type": "stream",
     "text": [
      "100%|██████████| 100/100 [01:25<00:00,  1.17it/s]\n",
      "100%|██████████| 1/1 [00:00<00:00,  1.29it/s]\n"
     ]
    }
   ],
   "source": [
    "import json\n",
    "import os\n",
    "import tqdm\n",
    "\n",
    "import numpy as np\n",
    "import tensorflow as tf\n",
    "\n",
    "import matplotlib.pyplot as plt\n",
    "\n",
    "import lib_stylegan\n",
    "\n",
    "tf_config = json.loads(os.environ['TF_CONFIG'])\n",
    "num_workers = len(tf_config['cluster']['worker'])\n",
    "\n",
    "im_size = 128\n",
    "latent_size = 256 \n",
    "channels = 24 # Should be at least 32 for good results\n",
    "#Chosing the number of layer this way, means we start with 4x4\n",
    "nb_layer = int(np.log2(im_size) - 1) \n",
    "\n",
    "path=\"/Data/leo/dogs-face-2015/*jpg\"\n",
    "\n",
    "per_worker_batch_size = 16\n",
    "global_batch_size = per_worker_batch_size * num_workers\n",
    "\n",
    "\n",
    "strategy = tf.distribute.experimental.MultiWorkerMirroredStrategy()\n",
    "global_batch_size = per_worker_batch_size * num_workers\n",
    "\n",
    "with strategy.scope():\n",
    "    model = lib_stylegan.style_gan.StyleGan(im_size=im_size, \n",
    "                                            latent_size=latent_size, \n",
    "                                            channels=channels,\n",
    "                                            nb_layer=nb_layer)\n",
    "                                            global_batch_size=global_batch_size)\n",
    "    model.compile(run_eagerly=True)\n",
    "\n",
    "dataset = lib_stylegan.dataset.train_dataset(path, \n",
    "                                             n_layers=nb_layer, \n",
    "                                             im_size=im_size, \n",
    "                                             batch_size=per_worker_batch_size,\n",
    "                                             latent_size=latent_size\n",
    "                                            )\n",
    "print(\"Here\")\n",
    "for args in tqdm.tqdm(dataset.take(100), total=100):\n",
    "    per_replica_losses = strategy.run(model.train_step, args=(args,))\n",
    "for args in tqdm.tqdm(dataset.take(1), total=1):\n",
    "    per_replica_losses = strategy.run(model.train_step, args=(args,))"
   ]
  },
  {
   "cell_type": "code",
   "execution_count": null,
   "metadata": {},
   "outputs": [],
   "source": []
  }
 ],
 "metadata": {
  "kernelspec": {
   "display_name": "Python 3",
   "language": "python",
   "name": "python3"
  },
  "language_info": {
   "codemirror_mode": {
    "name": "ipython",
    "version": 3
   },
   "file_extension": ".py",
   "mimetype": "text/x-python",
   "name": "python",
   "nbconvert_exporter": "python",
   "pygments_lexer": "ipython3",
   "version": "3.8.5"
  }
 },
 "nbformat": 4,
 "nbformat_minor": 4
}
