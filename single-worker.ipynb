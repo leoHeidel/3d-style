{
 "cells": [
  {
   "cell_type": "code",
   "execution_count": 1,
   "metadata": {},
   "outputs": [
    {
     "name": "stdout",
     "output_type": "stream",
     "text": [
      "INFO:tensorflow:Using MirroredStrategy with devices ('/device:GPU:0',)\n",
      "INFO:tensorflow:Single-worker MultiWorkerMirroredStrategy with local_devices = ('/device:GPU:0',), communication = CollectiveCommunication.AUTO\n",
      "Number of train images found: 52597\n",
      "Here\n"
     ]
    },
    {
     "name": "stderr",
     "output_type": "stream",
     "text": [
      "100%|██████████| 100/100 [01:09<00:00,  1.44it/s]\n"
     ]
    }
   ],
   "source": [
    "import json\n",
    "import os\n",
    "import tqdm\n",
    "\n",
    "import numpy as np\n",
    "import tensorflow as tf\n",
    "\n",
    "import matplotlib.pyplot as plt\n",
    "\n",
    "import lib_stylegan\n",
    "\n",
    "\n",
    "im_size = 128\n",
    "latent_size = 256 \n",
    "channels = 24 # Should be at least 32 for good results\n",
    "#Chosing the number of layer this way, means we start with 4x4\n",
    "nb_layer = int(np.log2(im_size) - 1) \n",
    "\n",
    "path=\"/Data/leo/dogs-face-2015/*jpg\"\n",
    "\n",
    "per_worker_batch_size = 32\n",
    "\n",
    "\n",
    "strategy = tf.distribute.experimental.MultiWorkerMirroredStrategy()\n",
    "\n",
    "model = lib_stylegan.style_gan.StyleGan(im_size=im_size, \n",
    "                                            latent_size=latent_size, \n",
    "                                            channels=channels,\n",
    "                                            nb_layer=nb_layer)\n",
    "                                            #global_batch_size=global_batch_size)\n",
    "model.compile(run_eagerly=True)\n",
    "\n",
    "dataset = lib_stylegan.dataset.train_dataset(path, \n",
    "                                             n_layers=nb_layer, \n",
    "                                             im_size=im_size, \n",
    "                                             batch_size=per_worker_batch_size,\n",
    "                                             latent_size=latent_size\n",
    "                                            )\n",
    "print(\"Here\")\n",
    "for args in dataset.take(1):\n",
    "    model.tf_train_step(*(args+(False, False)))\n",
    "    \n",
    "for args in tqdm.tqdm(dataset.take(100), total=100):\n",
    "    model.tf_train_step(*(args+(False, False)))"
   ]
  },
  {
   "cell_type": "code",
   "execution_count": null,
   "metadata": {},
   "outputs": [],
   "source": []
  }
 ],
 "metadata": {
  "kernelspec": {
   "display_name": "Python 3",
   "language": "python",
   "name": "python3"
  },
  "language_info": {
   "codemirror_mode": {
    "name": "ipython",
    "version": 3
   },
   "file_extension": ".py",
   "mimetype": "text/x-python",
   "name": "python",
   "nbconvert_exporter": "python",
   "pygments_lexer": "ipython3",
   "version": "3.8.5"
  }
 },
 "nbformat": 4,
 "nbformat_minor": 4
}
